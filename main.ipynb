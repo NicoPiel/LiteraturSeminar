{
 "cells": [
  {
   "cell_type": "markdown",
   "metadata": {},
   "source": [
    "\n",
    "# Diagnose und Klassifikation von Diabetes mellitus mithilfe maschinellen Lernens\n",
    "\n",
    "Hier finden Sie den gesamten Code, den der Autor für die Analyse verwendet hat.\n",
    "\n",
    "Auch einzusehen unter: https://github.com/NicoPiel/LiteraturSeminar"
   ]
  },
  {
   "cell_type": "code",
   "execution_count": 1,
   "metadata": {},
   "outputs": [
    {
     "ename": "ModuleNotFoundError",
     "evalue": "No module named 'tensorflow'",
     "output_type": "error",
     "traceback": [
      "\u001b[1;31m---------------------------------------------------------------------------\u001b[0m",
      "\u001b[1;31mModuleNotFoundError\u001b[0m                       Traceback (most recent call last)",
      "\u001b[1;32m<ipython-input-1-19bf0cc25e08>\u001b[0m in \u001b[0;36m<module>\u001b[1;34m\u001b[0m\n\u001b[0;32m      8\u001b[0m \u001b[1;32mfrom\u001b[0m \u001b[0msklearn\u001b[0m\u001b[1;33m.\u001b[0m\u001b[0mmodel_selection\u001b[0m \u001b[1;32mimport\u001b[0m \u001b[0mtrain_test_split\u001b[0m\u001b[1;33m\u001b[0m\u001b[1;33m\u001b[0m\u001b[0m\n\u001b[0;32m      9\u001b[0m \u001b[1;32mfrom\u001b[0m \u001b[0msklearn\u001b[0m\u001b[1;33m.\u001b[0m\u001b[0mimpute\u001b[0m \u001b[1;32mimport\u001b[0m \u001b[0mSimpleImputer\u001b[0m\u001b[1;33m\u001b[0m\u001b[1;33m\u001b[0m\u001b[0m\n\u001b[1;32m---> 10\u001b[1;33m \u001b[1;32mfrom\u001b[0m \u001b[0mtensorflow\u001b[0m \u001b[1;32mimport\u001b[0m \u001b[0mkeras\u001b[0m\u001b[1;33m\u001b[0m\u001b[1;33m\u001b[0m\u001b[0m\n\u001b[0m\u001b[0;32m     11\u001b[0m \u001b[1;32mfrom\u001b[0m \u001b[0mtensorflow\u001b[0m\u001b[1;33m.\u001b[0m\u001b[0mkeras\u001b[0m\u001b[1;33m.\u001b[0m\u001b[0mcallbacks\u001b[0m \u001b[1;32mimport\u001b[0m \u001b[0mEarlyStopping\u001b[0m\u001b[1;33m\u001b[0m\u001b[1;33m\u001b[0m\u001b[0m\n\u001b[0;32m     12\u001b[0m \u001b[1;33m\u001b[0m\u001b[0m\n",
      "\u001b[1;31mModuleNotFoundError\u001b[0m: No module named 'tensorflow'"
     ]
    }
   ],
   "source": [
    "# Setup\n",
    "\n",
    "import numpy as np\n",
    "import pandas as pd\n",
    "import matplotlib.pyplot as plt\n",
    "import seaborn as sns\n",
    "from scipy import stats\n",
    "from sklearn.model_selection import train_test_split\n",
    "from sklearn.impute import SimpleImputer\n",
    "from tensorflow import keras\n",
    "from tensorflow.keras.callbacks import EarlyStopping\n",
    "\n",
    "%matplotlib inline\n",
    "sns.set_theme()"
   ]
  },
  {
   "cell_type": "code",
   "execution_count": null,
   "metadata": {},
   "outputs": [],
   "source": [
    "# Daten importieren\n",
    "data = pd.read_csv('data/diabetes.csv')\n",
    "\n",
    "# Nullen durch NaN ersetzen\n",
    "data[\"Glucose\"] = data[\"Glucose\"].replace(0, np.nan)\n",
    "data[\"BloodPressure\"] = data[\"BloodPressure\"].replace(0, np.nan)\n",
    "data[\"SkinThickness\"] = data[\"SkinThickness\"].replace(0, np.nan)\n",
    "data[\"Insulin\"] = data[\"Insulin\"].replace(0, np.nan)\n",
    "data[\"BMI\"] = data[\"BMI\"].replace(0, np.nan)\n",
    "data[\"DiabetesPedigreeFunction\"] = data[\"DiabetesPedigreeFunction\"].replace(0, np.nan)\n",
    "data[\"Age\"] = data[\"Age\"].replace(0, np.nan)\n",
    "\n",
    "# NaN Werte imputieren\n",
    "imputer = SimpleImputer()\n",
    "\n",
    "data_imputed = pd.DataFrame(imputer.fit_transform(data))\n",
    "data_imputed.columns = data.columns"
   ]
  },
  {
   "cell_type": "markdown",
   "metadata": {},
   "source": [
    "# Vorbereitung\n",
    "\n",
    "Als erstes möchten wir uns ein wenig Übersicht verschaffen, also Data Exploration betreiben."
   ]
  },
  {
   "cell_type": "code",
   "execution_count": null,
   "metadata": {},
   "outputs": [],
   "source": [
    "# Spalten\n",
    "\n",
    "data.columns"
   ]
  },
  {
   "cell_type": "code",
   "execution_count": null,
   "metadata": {},
   "outputs": [],
   "source": [
    "# Übersicht verschaffen\n",
    "\n",
    "data.head()"
   ]
  },
  {
   "cell_type": "code",
   "execution_count": null,
   "metadata": {},
   "outputs": [],
   "source": [
    "data.describe()"
   ]
  },
  {
   "cell_type": "markdown",
   "metadata": {},
   "source": [
    "Die einzelnen Spalten haben folgende Bedeutung:\n",
    "\n",
    "- **Pregnancies:** Anzahl der bisherigen (erfolgreichen und gescheiterten) Schwangerschaften\n",
    "- **Glucose:** 75g-2-h-oGTT in $\\frac{\\text{mg}}{\\text{dl}}$. Glukosewert nach 75g Kohlenhydraten und zwei Stunden Wartezeit\n",
    "- **BloodPressure:** Diastolischer Blutdruck in $\\text{mm} \\cdot \\text{Hg}$\n",
    "- **SkinThickness:** Dicke der Trizepshautfalte in $\\text{mm}$\n",
    "- **Insulin:** Seruminsulin nach 2 Stunden in $\\frac{\\text{µU}}{\\text{ml}}$\n",
    "- **BMI:** Body-Mass-Index in $\\frac{\\text{kg}}{\\text{m}^2}$\n",
    "- **DiabetesPedigreeFunction:** Stammbaumfunktion des Patienten\n",
    "- **Age:** Alter in Jahren\n",
    "- **Outcome:** Klassifikation. 1 = Diabetes, 0 = kein Diabetes"
   ]
  },
  {
   "cell_type": "code",
   "execution_count": null,
   "metadata": {},
   "outputs": [],
   "source": [
    "# Keine sichtbare Beziehung zwischen\n",
    "\n",
    "sns.pairplot(data = data, hue=\"Outcome\")"
   ]
  },
  {
   "cell_type": "code",
   "execution_count": null,
   "metadata": {},
   "outputs": [],
   "source": [
    "# Pearson-Koeffizienten für alle Spalten\n",
    "\n",
    "print(\"Pearson-Koeffizient > 0.5\")\n",
    "\n",
    "for col in data_imputed:\n",
    "    for col2 in data_imputed:\n",
    "        if (col != col2):\n",
    "            arr1 = data_imputed[col].to_numpy()\n",
    "            arr2 = data_imputed[col2].to_numpy()\n",
    "        \n",
    "            pearson = stats.pearsonr(arr1, arr2)\n",
    "            \n",
    "            if (pearson[0] > 0.4):\n",
    "                print(f\"{col} -> {col2}: {pearson[0]}\")"
   ]
  },
  {
   "cell_type": "markdown",
   "metadata": {},
   "source": [
    "Aus den Pearson-Koeffizienten lässt sich schließen, dass die klinischen Werte keinen direkten Einfluss aufeinander haben. \n",
    "\n",
    "Die Anzahl der Schwangerschaften scheint mit dem Alter, die Dicke der Trizeps-Hautfalte mit dem BMI zu korrelieren.\n",
    "Überraschenderweise scheint der 75g-2h-oGGT nur mittelmäßig mit dem Ergebnis zusammenzuhängen."
   ]
  },
  {
   "cell_type": "markdown",
   "metadata": {},
   "source": [
    "# Das Modell"
   ]
  },
  {
   "cell_type": "code",
   "execution_count": null,
   "metadata": {},
   "outputs": [],
   "source": [
    "X = data_imputed.drop('Outcome', inplace=False)\n",
    "y = data_imputed['Outcome']\n",
    "\n",
    "X_train, X_test, y_train, y_test = train_test_split(X, y, test_size=0.33, random_state=0)\n",
    "\n",
    "# early_stopping = EarlyStopping()\n",
    "\n",
    "network = keras.Sequential(\n",
    "    layers.Dense(512, activation='relu', input_shape=[11]),\n",
    "    layers.Dense(512, activation='relu'),\n",
    "    layers.Dense(512, activation='relu'),\n",
    "    layers.Dense(1),\n",
    ")"
   ]
  },
  {
   "cell_type": "code",
   "execution_count": null,
   "metadata": {},
   "outputs": [],
   "source": []
  }
 ],
 "metadata": {
  "kernelspec": {
   "display_name": "Python 3",
   "language": "python",
   "name": "python3"
  },
  "language_info": {
   "codemirror_mode": {
    "name": "ipython",
    "version": 3
   },
   "file_extension": ".py",
   "mimetype": "text/x-python",
   "name": "python",
   "nbconvert_exporter": "python",
   "pygments_lexer": "ipython3",
   "version": "3.8.5"
  }
 },
 "nbformat": 4,
 "nbformat_minor": 4
}
