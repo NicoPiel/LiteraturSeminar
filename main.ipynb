{
 "cells": [
  {
   "cell_type": "markdown",
   "metadata": {},
   "source": [
    "\n",
    "# Diagnose und Klassifikation von Diabetes mellitus mithilfe maschinellen Lernens\n",
    "\n",
    "Hier finden Sie den gesamten Code, den der Autor für die Analyse verwendet hat.\n",
    "\n",
    "Auch einzusehen unter: https://github.com/NicoPiel/LiteraturSeminar"
   ]
  },
  {
   "cell_type": "code",
   "execution_count": 1,
   "metadata": {},
   "outputs": [
    {
     "name": "stdout",
     "output_type": "stream",
     "text": [
      "GPUs für die Berechnung: 0\n"
     ]
    }
   ],
   "source": [
    "# Setup\n",
    "\n",
    "import numpy as np\n",
    "\n",
    "# Ein Zufalls-Seed für Reproduzierbarkeit\n",
    "np.random.seed(42)\n",
    "\n",
    "from datetime import datetime\n",
    "import pandas as pd\n",
    "import seaborn as sns\n",
    "from scipy import stats\n",
    "from sklearn.model_selection import train_test_split\n",
    "from sklearn.impute import KNNImputer\n",
    "import tensorflow as tf\n",
    "from tensorflow import keras\n",
    "from tensorflow.keras import layers, callbacks, utils\n",
    "import tensorboard\n",
    "\n",
    "%load_ext tensorboard\n",
    "sns.set_theme()\n",
    "\n",
    "tf.keras.backend.set_floatx('float64')\n",
    "\n",
    "print(f\"GPUs für die Berechnung: {len(tf.config.experimental.list_physical_devices('GPU'))}\")"
   ]
  },
  {
   "cell_type": "code",
   "execution_count": 2,
   "metadata": {},
   "outputs": [],
   "source": [
    "# Daten importieren\n",
    "data = pd.read_csv('data/diabetes.csv')\n",
    "\n",
    "# Nullen durch NaN ersetzen\n",
    "data[\"Glucose\"] = data[\"Glucose\"].replace(0, np.nan)\n",
    "data[\"BloodPressure\"] = data[\"BloodPressure\"].replace(0, np.nan)\n",
    "data[\"SkinThickness\"] = data[\"SkinThickness\"].replace(0, np.nan)\n",
    "data[\"Insulin\"] = data[\"Insulin\"].replace(0, np.nan)\n",
    "data[\"BMI\"] = data[\"BMI\"].replace(0, np.nan)\n",
    "data[\"DiabetesPedigreeFunction\"] = data[\"DiabetesPedigreeFunction\"].replace(0, np.nan)\n",
    "data[\"Age\"] = data[\"Age\"].replace(0, np.nan)\n",
    "\n",
    "# NaN Werte imputieren\n",
    "imputer = KNNImputer(n_neighbors=3)\n",
    "\n",
    "data_imputed = pd.DataFrame(imputer.fit_transform(data))\n",
    "data_imputed.columns = data.columns"
   ]
  },
  {
   "cell_type": "markdown",
   "metadata": {},
   "source": [
    "# Vorbereitung\n",
    "\n",
    "Als Erstes möchten wir uns ein wenig Übersicht verschaffen, also Data Exploration betreiben."
   ]
  },
  {
   "cell_type": "code",
   "execution_count": 3,
   "metadata": {},
   "outputs": [
    {
     "data": {
      "text/plain": [
       "Index(['Pregnancies', 'Glucose', 'BloodPressure', 'SkinThickness', 'Insulin',\n",
       "       'BMI', 'DiabetesPedigreeFunction', 'Age', 'Outcome'],\n",
       "      dtype='object')"
      ]
     },
     "execution_count": 3,
     "metadata": {},
     "output_type": "execute_result"
    }
   ],
   "source": [
    "# Spalten\n",
    "\n",
    "data_imputed.columns"
   ]
  },
  {
   "cell_type": "code",
   "execution_count": 4,
   "metadata": {},
   "outputs": [
    {
     "data": {
      "text/html": [
       "<div>\n",
       "<style scoped>\n",
       "    .dataframe tbody tr th:only-of-type {\n",
       "        vertical-align: middle;\n",
       "    }\n",
       "\n",
       "    .dataframe tbody tr th {\n",
       "        vertical-align: top;\n",
       "    }\n",
       "\n",
       "    .dataframe thead th {\n",
       "        text-align: right;\n",
       "    }\n",
       "</style>\n",
       "<table border=\"1\" class=\"dataframe\">\n",
       "  <thead>\n",
       "    <tr style=\"text-align: right;\">\n",
       "      <th></th>\n",
       "      <th>Pregnancies</th>\n",
       "      <th>Glucose</th>\n",
       "      <th>BloodPressure</th>\n",
       "      <th>SkinThickness</th>\n",
       "      <th>Insulin</th>\n",
       "      <th>BMI</th>\n",
       "      <th>DiabetesPedigreeFunction</th>\n",
       "      <th>Age</th>\n",
       "      <th>Outcome</th>\n",
       "    </tr>\n",
       "  </thead>\n",
       "  <tbody>\n",
       "    <tr>\n",
       "      <th>0</th>\n",
       "      <td>6.0</td>\n",
       "      <td>148.0</td>\n",
       "      <td>72.0</td>\n",
       "      <td>35.0</td>\n",
       "      <td>126.0</td>\n",
       "      <td>33.6</td>\n",
       "      <td>0.627</td>\n",
       "      <td>50.0</td>\n",
       "      <td>1.0</td>\n",
       "    </tr>\n",
       "    <tr>\n",
       "      <th>1</th>\n",
       "      <td>1.0</td>\n",
       "      <td>85.0</td>\n",
       "      <td>66.0</td>\n",
       "      <td>29.0</td>\n",
       "      <td>106.0</td>\n",
       "      <td>26.6</td>\n",
       "      <td>0.351</td>\n",
       "      <td>31.0</td>\n",
       "      <td>0.0</td>\n",
       "    </tr>\n",
       "    <tr>\n",
       "      <th>2</th>\n",
       "      <td>8.0</td>\n",
       "      <td>183.0</td>\n",
       "      <td>64.0</td>\n",
       "      <td>33.0</td>\n",
       "      <td>325.0</td>\n",
       "      <td>23.3</td>\n",
       "      <td>0.672</td>\n",
       "      <td>32.0</td>\n",
       "      <td>1.0</td>\n",
       "    </tr>\n",
       "    <tr>\n",
       "      <th>3</th>\n",
       "      <td>1.0</td>\n",
       "      <td>89.0</td>\n",
       "      <td>66.0</td>\n",
       "      <td>23.0</td>\n",
       "      <td>94.0</td>\n",
       "      <td>28.1</td>\n",
       "      <td>0.167</td>\n",
       "      <td>21.0</td>\n",
       "      <td>0.0</td>\n",
       "    </tr>\n",
       "    <tr>\n",
       "      <th>4</th>\n",
       "      <td>0.0</td>\n",
       "      <td>137.0</td>\n",
       "      <td>40.0</td>\n",
       "      <td>35.0</td>\n",
       "      <td>168.0</td>\n",
       "      <td>43.1</td>\n",
       "      <td>2.288</td>\n",
       "      <td>33.0</td>\n",
       "      <td>1.0</td>\n",
       "    </tr>\n",
       "  </tbody>\n",
       "</table>\n",
       "</div>"
      ],
      "text/plain": [
       "   Pregnancies  Glucose  BloodPressure  SkinThickness  Insulin   BMI  \\\n",
       "0          6.0    148.0           72.0           35.0    126.0  33.6   \n",
       "1          1.0     85.0           66.0           29.0    106.0  26.6   \n",
       "2          8.0    183.0           64.0           33.0    325.0  23.3   \n",
       "3          1.0     89.0           66.0           23.0     94.0  28.1   \n",
       "4          0.0    137.0           40.0           35.0    168.0  43.1   \n",
       "\n",
       "   DiabetesPedigreeFunction   Age  Outcome  \n",
       "0                     0.627  50.0      1.0  \n",
       "1                     0.351  31.0      0.0  \n",
       "2                     0.672  32.0      1.0  \n",
       "3                     0.167  21.0      0.0  \n",
       "4                     2.288  33.0      1.0  "
      ]
     },
     "execution_count": 4,
     "metadata": {},
     "output_type": "execute_result"
    }
   ],
   "source": [
    "# Übersicht verschaffen\n",
    "\n",
    "data_imputed.head()"
   ]
  },
  {
   "cell_type": "code",
   "execution_count": 5,
   "metadata": {},
   "outputs": [
    {
     "data": {
      "text/html": [
       "<div>\n",
       "<style scoped>\n",
       "    .dataframe tbody tr th:only-of-type {\n",
       "        vertical-align: middle;\n",
       "    }\n",
       "\n",
       "    .dataframe tbody tr th {\n",
       "        vertical-align: top;\n",
       "    }\n",
       "\n",
       "    .dataframe thead th {\n",
       "        text-align: right;\n",
       "    }\n",
       "</style>\n",
       "<table border=\"1\" class=\"dataframe\">\n",
       "  <thead>\n",
       "    <tr style=\"text-align: right;\">\n",
       "      <th></th>\n",
       "      <th>Pregnancies</th>\n",
       "      <th>Glucose</th>\n",
       "      <th>BloodPressure</th>\n",
       "      <th>SkinThickness</th>\n",
       "      <th>Insulin</th>\n",
       "      <th>BMI</th>\n",
       "      <th>DiabetesPedigreeFunction</th>\n",
       "      <th>Age</th>\n",
       "      <th>Outcome</th>\n",
       "    </tr>\n",
       "  </thead>\n",
       "  <tbody>\n",
       "    <tr>\n",
       "      <th>count</th>\n",
       "      <td>2768.000000</td>\n",
       "      <td>2768.000000</td>\n",
       "      <td>2768.000000</td>\n",
       "      <td>2768.000000</td>\n",
       "      <td>2768.000000</td>\n",
       "      <td>2768.000000</td>\n",
       "      <td>2768.000000</td>\n",
       "      <td>2768.000000</td>\n",
       "      <td>2768.000000</td>\n",
       "    </tr>\n",
       "    <tr>\n",
       "      <th>mean</th>\n",
       "      <td>3.742775</td>\n",
       "      <td>121.865968</td>\n",
       "      <td>72.386802</td>\n",
       "      <td>29.394870</td>\n",
       "      <td>154.245303</td>\n",
       "      <td>32.571038</td>\n",
       "      <td>0.471193</td>\n",
       "      <td>33.132225</td>\n",
       "      <td>0.343931</td>\n",
       "    </tr>\n",
       "    <tr>\n",
       "      <th>std</th>\n",
       "      <td>3.323801</td>\n",
       "      <td>30.691555</td>\n",
       "      <td>12.405154</td>\n",
       "      <td>10.878381</td>\n",
       "      <td>113.830777</td>\n",
       "      <td>7.143838</td>\n",
       "      <td>0.325669</td>\n",
       "      <td>11.777230</td>\n",
       "      <td>0.475104</td>\n",
       "    </tr>\n",
       "    <tr>\n",
       "      <th>min</th>\n",
       "      <td>0.000000</td>\n",
       "      <td>44.000000</td>\n",
       "      <td>24.000000</td>\n",
       "      <td>7.000000</td>\n",
       "      <td>14.000000</td>\n",
       "      <td>18.200000</td>\n",
       "      <td>0.078000</td>\n",
       "      <td>21.000000</td>\n",
       "      <td>0.000000</td>\n",
       "    </tr>\n",
       "    <tr>\n",
       "      <th>25%</th>\n",
       "      <td>1.000000</td>\n",
       "      <td>99.000000</td>\n",
       "      <td>64.000000</td>\n",
       "      <td>22.000000</td>\n",
       "      <td>76.000000</td>\n",
       "      <td>27.500000</td>\n",
       "      <td>0.244000</td>\n",
       "      <td>24.000000</td>\n",
       "      <td>0.000000</td>\n",
       "    </tr>\n",
       "    <tr>\n",
       "      <th>50%</th>\n",
       "      <td>3.000000</td>\n",
       "      <td>117.000000</td>\n",
       "      <td>72.000000</td>\n",
       "      <td>30.000000</td>\n",
       "      <td>125.000000</td>\n",
       "      <td>32.300000</td>\n",
       "      <td>0.375000</td>\n",
       "      <td>29.000000</td>\n",
       "      <td>0.000000</td>\n",
       "    </tr>\n",
       "    <tr>\n",
       "      <th>75%</th>\n",
       "      <td>6.000000</td>\n",
       "      <td>141.000000</td>\n",
       "      <td>80.000000</td>\n",
       "      <td>36.000000</td>\n",
       "      <td>190.000000</td>\n",
       "      <td>36.725000</td>\n",
       "      <td>0.624000</td>\n",
       "      <td>40.000000</td>\n",
       "      <td>1.000000</td>\n",
       "    </tr>\n",
       "    <tr>\n",
       "      <th>max</th>\n",
       "      <td>17.000000</td>\n",
       "      <td>199.000000</td>\n",
       "      <td>122.000000</td>\n",
       "      <td>110.000000</td>\n",
       "      <td>846.000000</td>\n",
       "      <td>80.600000</td>\n",
       "      <td>2.420000</td>\n",
       "      <td>81.000000</td>\n",
       "      <td>1.000000</td>\n",
       "    </tr>\n",
       "  </tbody>\n",
       "</table>\n",
       "</div>"
      ],
      "text/plain": [
       "       Pregnancies      Glucose  BloodPressure  SkinThickness      Insulin  \\\n",
       "count  2768.000000  2768.000000    2768.000000    2768.000000  2768.000000   \n",
       "mean      3.742775   121.865968      72.386802      29.394870   154.245303   \n",
       "std       3.323801    30.691555      12.405154      10.878381   113.830777   \n",
       "min       0.000000    44.000000      24.000000       7.000000    14.000000   \n",
       "25%       1.000000    99.000000      64.000000      22.000000    76.000000   \n",
       "50%       3.000000   117.000000      72.000000      30.000000   125.000000   \n",
       "75%       6.000000   141.000000      80.000000      36.000000   190.000000   \n",
       "max      17.000000   199.000000     122.000000     110.000000   846.000000   \n",
       "\n",
       "               BMI  DiabetesPedigreeFunction          Age      Outcome  \n",
       "count  2768.000000               2768.000000  2768.000000  2768.000000  \n",
       "mean     32.571038                  0.471193    33.132225     0.343931  \n",
       "std       7.143838                  0.325669    11.777230     0.475104  \n",
       "min      18.200000                  0.078000    21.000000     0.000000  \n",
       "25%      27.500000                  0.244000    24.000000     0.000000  \n",
       "50%      32.300000                  0.375000    29.000000     0.000000  \n",
       "75%      36.725000                  0.624000    40.000000     1.000000  \n",
       "max      80.600000                  2.420000    81.000000     1.000000  "
      ]
     },
     "execution_count": 5,
     "metadata": {},
     "output_type": "execute_result"
    }
   ],
   "source": [
    "data_imputed.describe()"
   ]
  },
  {
   "cell_type": "markdown",
   "metadata": {},
   "source": [
    "Die einzelnen Spalten haben folgende Bedeutung:\n",
    "\n",
    "- **Pregnancies:** Anzahl der bisherigen (erfolgreichen und gescheiterten) Schwangerschaften\n",
    "- **Glucose:** 75g-2-h-oGTT in $\\frac{\\text{mg}}{\\text{dl}}$. Glukosewert nach 75g Kohlenhydraten und zwei Stunden Wartezeit\n",
    "- **BloodPressure:** Diastolischer Blutdruck in $\\text{mm} \\cdot \\text{Hg}$\n",
    "- **SkinThickness:** Dicke der Trizepshautfalte in $\\text{mm}$\n",
    "- **Insulin:** Seruminsulin nach 2 Stunden in $\\frac{\\text{µU}}{\\text{ml}}$\n",
    "- **BMI:** Body-Mass-Index in $\\frac{\\text{kg}}{\\text{m}^2}$\n",
    "- **DiabetesPedigreeFunction:** Stammbaumfunktion des Patienten\n",
    "- **Age:** Alter in Jahren\n",
    "- **Outcome:** Klassifikation. 1 = Diabetes, 0 = kein Diabetes"
   ]
  },
  {
   "cell_type": "code",
   "execution_count": 6,
   "metadata": {},
   "outputs": [],
   "source": [
    "# Keine sichtbare Beziehung zwischen\n",
    "\n",
    "#sns.pairplot(data = data_imputed, hue=\"Outcome\")\n",
    "#plt.savefig('pairplot.png', dpi=300)"
   ]
  },
  {
   "cell_type": "code",
   "execution_count": 7,
   "metadata": {},
   "outputs": [
    {
     "name": "stdout",
     "output_type": "stream",
     "text": [
      "Pregnancies -> Age: r = 0.54, p = 0.0\n",
      "Glucose -> Insulin: r = 0.51, p = 0.0\n",
      "Glucose -> Outcome: r = 0.49, p = 0.0\n",
      "BloodPressure -> Age: r = 0.33, p = 0.0\n",
      "SkinThickness -> BMI: r = 0.54, p = 0.0\n",
      "Insulin -> Glucose: r = 0.51, p = 0.0\n",
      "BMI -> SkinThickness: r = 0.54, p = 0.0\n",
      "Age -> Pregnancies: r = 0.54, p = 0.0\n",
      "Age -> BloodPressure: r = 0.33, p = 0.0\n",
      "Outcome -> Glucose: r = 0.49, p = 0.0\n"
     ]
    }
   ],
   "source": [
    "# Pearson-Koeffizienten für alle Spalten\n",
    "\n",
    "for col in data_imputed:\n",
    "    for col2 in data_imputed:\n",
    "        if col != col2:\n",
    "            arr1 = data_imputed[col].to_numpy()\n",
    "            arr2 = data_imputed[col2].to_numpy()\n",
    "        \n",
    "            pearson = stats.pearsonr(arr1, arr2)\n",
    "            \n",
    "            if (pearson[0] > 0.3) or (pearson[0] < -0.3):\n",
    "                print(f\"{col} -> {col2}: r = {np.round(pearson[0], 2)}, p = {np.round(pearson[1], 2)}\")"
   ]
  },
  {
   "cell_type": "markdown",
   "metadata": {},
   "source": [
    "Aus den Pearson-Koeffizienten lässt sich schließen, dass die klinischen Werte nur wenig direkten Einfluss aufeinander haben.\n",
    "\n",
    "Die Anzahl der Schwangerschaften scheint mit dem Alter, die Dicke der Trizeps-Hautfalte mit dem BMI zu korrelieren.\n",
    "Überraschenderweise scheint der 75g-2h-oGGT nur mittelmäßig mit dem Ergebnis zusammenzuhängen."
   ]
  },
  {
   "cell_type": "markdown",
   "metadata": {},
   "source": [
    "# Das Modell"
   ]
  },
  {
   "cell_type": "code",
   "execution_count": 8,
   "metadata": {},
   "outputs": [
    {
     "name": "stdout",
     "output_type": "stream",
     "text": [
      "WARNING:tensorflow:From C:\\Users\\nicop\\anaconda3\\envs\\LiteraturSeminar\\lib\\site-packages\\tensorflow\\python\\ops\\summary_ops_v2.py:1277: stop (from tensorflow.python.eager.profiler) is deprecated and will be removed after 2020-07-01.\n",
      "Instructions for updating:\n",
      "use `tf.profiler.experimental.stop` instead.\n",
      "Best Validation Loss: 0.0446\n",
      "Best Validation Accuracy: 99.458%\n"
     ]
    },
    {
     "data": {
      "image/png": "[encoded data removed]",
      "text/plain": [
       "<Figure size 432x288 with 1 Axes>"
      ]
     },
     "metadata": {},
     "output_type": "display_data"
    },
    {
     "data": {
      "image/png": "[encoded data removed]",
      "text/plain": [
       "<Figure size 432x288 with 1 Axes>"
      ]
     },
     "metadata": {},
     "output_type": "display_data"
    }
   ],
   "source": [
    "# Input-Daten\n",
    "X = data_imputed[['Pregnancies', 'Glucose', 'BloodPressure', 'SkinThickness', 'Insulin', 'BMI', 'DiabetesPedigreeFunction', 'Age']]\n",
    "# Der Wert, der vorhergesagt werden soll\n",
    "y = data_imputed['Outcome']\n",
    "\n",
    "# Train-Test-Split als 80/20\n",
    "X_train, X_test, y_train, y_test = train_test_split(X, y, test_size=0.2, random_state=0)\n",
    "\n",
    "# Outcome als kategorische Variable speichern\n",
    "y_train = utils.to_categorical(y_train)\n",
    "y_test = utils.to_categorical(y_test)\n",
    "\n",
    "# Das Modell soll aufhören zu rechnen, falls es keine nennenswerten Verbesserungen mehr gibt\n",
    "early_stopping = callbacks.EarlyStopping(\n",
    "    min_delta=0.001,\n",
    "    patience=50,\n",
    "    restore_best_weights=True\n",
    ")\n",
    "\n",
    "# Visualisierung mithilfe von TensorBoard\n",
    "log_path=\"logs/fit/\" + datetime.now().strftime(\"%d%m%Y-%H%M%S\")\n",
    "tensorboard = callbacks.TensorBoard(log_dir=log_path)\n",
    "\n",
    "# Das NN besteht aus einer Mischung von Dense-, Normalization- und Dropout-Layern.\n",
    "network = keras.Sequential([\n",
    "    layers.BatchNormalization(dtype='float64'),\n",
    "    layers.Dense(512, activation='relu', input_shape=[X_train.shape[1]]),\n",
    "    layers.Dropout(rate=0.3),\n",
    "    layers.Dense(256, activation='relu'),\n",
    "    layers.Dropout(rate=0.3),\n",
    "    layers.Dense(128, activation='relu'),\n",
    "    layers.Dropout(rate=0.3),\n",
    "    layers.Dense(64, activation='relu'),\n",
    "    layers.Dense(2, activation='softmax'),\n",
    "])\n",
    "\n",
    "network.compile(\n",
    "    optimizer='adam',\n",
    "    loss='categorical_crossentropy',\n",
    "    metrics=['accuracy']\n",
    ")\n",
    "\n",
    "history = network.fit(\n",
    "    X_train, y_train,\n",
    "    validation_data=(X_test, y_test),\n",
    "    batch_size=512,\n",
    "    epochs=1000,\n",
    "    callbacks=[early_stopping, tensorboard],\n",
    "    verbose=0\n",
    ")\n",
    "\n",
    "history_df = pd.DataFrame(history.history)\n",
    "history_df.loc[5:, ['loss', 'val_loss']].plot()\n",
    "history_df.loc[5:, ['accuracy', 'val_accuracy']].plot()\n",
    "print((\"Best Validation Loss: {:0.4f}\" +\n",
    "      \"\\nBest Validation Accuracy: {:0.3f}%\")\\\n",
    "      .format(history_df['val_loss'].min(), history_df['val_accuracy'].max()*100))"
   ]
  },
  {
   "cell_type": "markdown",
   "metadata": {},
   "source": [
    "# Vorhersagen"
   ]
  },
  {
   "cell_type": "code",
   "execution_count": 11,
   "metadata": {
    "pycharm": {
     "name": "#%%\n"
    }
   },
   "outputs": [
    {
     "name": "stdout",
     "output_type": "stream",
     "text": [
      "Accuracy on test data: 99.458% \n",
      "Error on test data: 0.542%\n"
     ]
    }
   ],
   "source": [
    "pred_test= network.predict(X_test)\n",
    "scores_test = network.evaluate(X_test, y_test, verbose=0)\n",
    "print(f'Accuracy on test data: {np.round(scores_test[1]*100, 3)}% \\nError on test data: {np.round((1 - scores_test[1])*100, 3)}%')"
   ]
  },
  {
   "cell_type": "code",
   "execution_count": 14,
   "metadata": {},
   "outputs": [],
   "source": [
    "#%tensorboard --logdir logs"
   ]
  }
 ],
 "metadata": {
  "kernelspec": {
   "display_name": "Python 3",
   "language": "python",
   "name": "python3"
  },
  "language_info": {
   "codemirror_mode": {
    "name": "ipython",
    "version": 3
   },
   "file_extension": ".py",
   "mimetype": "text/x-python",
   "name": "python",
   "nbconvert_exporter": "python",
   "pygments_lexer": "ipython3",
   "version": "3.8.6"
  }
 },
 "nbformat": 4,
 "nbformat_minor": 4
}
